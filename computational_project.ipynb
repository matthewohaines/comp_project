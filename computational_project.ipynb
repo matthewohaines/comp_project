{
  "nbformat": 4,
  "nbformat_minor": 0,
  "metadata": {
    "colab": {
      "name": "computational_project.ipynb",
      "provenance": [],
      "authorship_tag": "ABX9TyPKgfAG5at9EDz1ChYpKSfR",
      "include_colab_link": true
    },
    "kernelspec": {
      "name": "python3",
      "display_name": "Python 3"
    },
    "language_info": {
      "name": "python"
    }
  },
  "cells": [
    {
      "cell_type": "markdown",
      "metadata": {
        "id": "view-in-github",
        "colab_type": "text"
      },
      "source": [
        "<a href=\"https://colab.research.google.com/github/matthewohaines/comp_project/blob/main/computational_project.ipynb\" target=\"_parent\"><img src=\"https://colab.research.google.com/assets/colab-badge.svg\" alt=\"Open In Colab\"/></a>"
      ]
    },
    {
      "cell_type": "code",
      "metadata": {
        "id": "RYAW9198npNU",
        "colab": {
          "base_uri": "https://localhost:8080/"
        },
        "outputId": "7be4f28f-dce7-49f0-e435-11b00185f819"
      },
      "source": [
        "from scipy import optimize\n",
        "import numpy as np\n",
        "\n",
        "# objective function\n",
        "func = lambda x: -np.log(x[0]) + (-1/1.02)*(.5*np.log(x[1])+.5*np.log(x[2]))\n",
        "\n",
        "# determine constraints\n",
        "linearCons = optimize.LinearConstraint([[1, 0, 0, 1], \n",
        "                                         [0, 1, 0, -1.02],\n",
        "                                        [0, 0, 1, -1.02]],\n",
        "                                        [-np.inf, -np.inf, -np.inf], [1, 1.2, .8])\n",
        "\n",
        "# determine bounds\n",
        "bounds = optimize.Bounds([-np.inf, -np.inf, -np.inf, -np.inf], [np.inf, np.inf, np.inf, np.inf])\n",
        "\n",
        "#solve\n",
        "res = optimize.minimize(func, [.1, .1, .2, .4], bounds=bounds, constraints=linearCons)\n",
        "\n",
        "# print results\n",
        "# print(res)\n",
        "\n",
        "# really only nead\n",
        "print(res.x)\n",
        "print(res.message)\n",
        "\n"
      ],
      "execution_count": null,
      "outputs": [
        {
          "output_type": "stream",
          "text": [
            "[0.98054279 1.21984635 0.81984635 0.01945721]\n",
            "Optimization terminated successfully.\n"
          ],
          "name": "stdout"
        }
      ]
    },
    {
      "cell_type": "code",
      "metadata": {
        "colab": {
          "base_uri": "https://localhost:8080/"
        },
        "id": "GqcgaXGD1HEd",
        "outputId": "eb7cbf81-08e5-4b5c-8cad-c83167b8e93c"
      },
      "source": [
        "from scipy import optimize\n",
        "import numpy as np\n",
        "\n",
        "# objective function\n",
        "func = lambda x: -np.log(x[0]) + (-1/1.02)*(.5*np.log(x[1])+.5*np.log(x[2]))\n",
        "\n",
        "# determine constraints\n",
        "linearCons = optimize.LinearConstraint([[1, 0, 0, 1], \n",
        "                                         [0, 1, 0, -1.02],\n",
        "                                        [0, 0, 1, -1.02]],\n",
        "                                        [-np.inf, -np.inf, -np.inf], [1, 1.2, .8])\n",
        "\n",
        "# determine bounds\n",
        "bounds = optimize.Bounds([-np.inf, -np.inf, -np.inf, -np.inf], [np.inf, np.inf, np.inf, np.inf])\n",
        "\n",
        "#solve\n",
        "res = optimize.minimize(func, [.1, .1, .2, .4], bounds=bounds, constraints=linearCons)\n",
        "\n",
        "# print results\n",
        "# print(res)\n",
        "\n",
        "# really only nead\n",
        "print(res.x)\n",
        "print(res.message)\n",
        "\n",
        "\n"
      ],
      "execution_count": null,
      "outputs": [
        {
          "output_type": "stream",
          "text": [
            "[0.98054279 1.21984635 0.81984635 0.01945721]\n",
            "Optimization terminated successfully.\n"
          ],
          "name": "stdout"
        }
      ]
    },
    {
      "cell_type": "code",
      "metadata": {
        "id": "aCZizFRf3H4u"
      },
      "source": [
        "import matplotlib.pyplot as plt\n",
        "import numpy as np\n",
        "\n",
        "yVals = [0, 0.004967, 0.01945721, 0.04268826, 0.07346985, 0.11091335, 0.15396173, 0.20096818, 0.25200067, 0.30565148, 0.36163134]\n",
        "xVals = [0, .1, .2, .3, .4, .5, .6, .7, .8, .9, 1]\n",
        "\n",
        "fig, ax = plt.subplots()\n",
        "\n",
        "ax.plot(xVals, yVals)\n",
        "ax.set_xlabel('Uncertainty std. dev ($\\sigma$)')\n",
        "ax.set_ylabel(\"Saving During First Period ($a_1$)\")\n",
        "ax.set_title('Uncertainty vs. Saving')\n",
        "fig.show()\n",
        "plt.savefig('comp_proj.pdf')"
      ],
      "execution_count": null,
      "outputs": []
    },
    {
      "cell_type": "code",
      "metadata": {
        "id": "eLCzXJky6XfV"
      },
      "source": [
        "from scipy import optimize\n",
        "import numpy as np\n",
        "\n",
        "# objective function\n",
        "func = lambda x: -0.5*(np.log(x[0]) + (1/1.02)*np.log(x[1])) + -0.5*(np.log(x[2]) + (1/1.02)*np.log(x[3]))\n",
        "\n",
        "# determine constraints\n",
        "linearCons = optimize.LinearConstraint([[1, 0, 0, 0, -1, -1,   1,     0], \n",
        "                                        [0, 0, 1, 0, -1,  1,   0,     1],\n",
        "                                        [0, 1, 0, 0,  0,  0,  -1.02,  0], \n",
        "                                        [0, 0, 0, 1,  0,  0,    0,   -1.02], \n",
        "                                        [0, 0, 0, 0,  1, .1,    0,    0]],\n",
        "                                        [-np.inf, -np.inf, -np.inf, -np.inf, 1], [0, 0, 1, 1, 1])\n",
        "\n",
        "# determine bounds\n",
        "bounds = optimize.Bounds([-np.inf, -np.inf, -np.inf, -np.inf, -np.inf, -np.inf, -np.inf, -np.inf], [np.inf, np.inf, np.inf, np.inf, np.inf, np.inf, np.inf, np.inf])\n",
        "\n",
        "#solve\n",
        "guess = np.linspace(0.00001, 5, 10)\n",
        "for i in guess:\n",
        "  res = optimize.minimize(func, [i, i, i, i, i, i, i, i], bounds=bounds, constraints=linearCons)\n",
        "  print(res.x)\n",
        "\n"
      ],
      "execution_count": null,
      "outputs": []
    },
    {
      "cell_type": "code",
      "metadata": {
        "colab": {
          "base_uri": "https://localhost:8080/",
          "height": 299
        },
        "id": "WB0iNiGHAVR4",
        "outputId": "df3676a0-caa1-4da3-e811-63ca3c9f5674"
      },
      "source": [
        "import matplotlib.pyplot as plt\n",
        "import numpy as np\n",
        "\n",
        "yVals = [-.2, -0.30275473, -0.40602584, -0.50765994, -0.61253536, -0.71537571 ]\n",
        "xVals = [0, 1, 2, 3, 4, 5]\n",
        "\n",
        "fig, ax = plt.subplots()\n",
        "\n",
        "ax.plot(xVals, yVals)\n",
        "ax.set_xlabel('Initial Saving from previous Periods, $a_0$')\n",
        "ax.set_ylabel(\"Labor Risk, $\\sigma$\")\n",
        "ax.set_title('Initial Saving vs. Labor Risk')\n",
        "fig.show()\n",
        "plt.savefig('comp_proj2.pdf')"
      ],
      "execution_count": null,
      "outputs": [
        {
          "output_type": "display_data",
          "data": {
            "image/png": "[encoded data removed]",
            "text/plain": [
              "<Figure size 432x288 with 1 Axes>"
            ]
          },
          "metadata": {
            "tags": [],
            "needs_background": "light"
          }
        }
      ]
    },
    {
      "cell_type": "code",
      "metadata": {
        "colab": {
          "base_uri": "https://localhost:8080/"
        },
        "id": "reVCky-nD0oe",
        "outputId": "ee0288a4-6682-4c89-d596-89ee3f84f3e6"
      },
      "source": [
        "from scipy import optimize\n",
        "import numpy as np\n",
        "\n",
        "# objective function\n",
        "func = lambda x: -0.5*(np.log(x[0]) + (1/1.02)*np.log(x[1])) + -0.5*(np.log(x[2]) + (1/1.02)*np.log(x[3]))\n",
        "\n",
        "# determine constraints\n",
        "linearCons = optimize.LinearConstraint([[1, 0, 0, 0, -1, -1,   1,     0], \n",
        "                                        [0, 0, 1, 0, -1,  1,   0,     1],\n",
        "                                        [0, 1, 0, 0,  0,  0,  -1.02,  0], \n",
        "                                        [0, 0, 0, 1,  0,  0,    0,   -1.02], \n",
        "                                        [0, 0, 0, 0,  1, .1,    0,    0]],\n",
        "                                        [-np.inf, -np.inf, -np.inf, -np.inf, 1], [0, 0, 1, 1, 1])\n",
        "\n",
        "# determine bounds\n",
        "bounds = optimize.Bounds([-np.inf, -np.inf, -np.inf, -np.inf, -np.inf, -np.inf, 0, 0],\n",
        "                               [np.inf, np.inf, np.inf, np.inf, np.inf, np.inf, np.inf, np.inf])\n",
        "\n",
        "#solve\n",
        "guess = np.linspace(0.01, 5, 10)\n",
        "for i in guess:\n",
        "  res = optimize.minimize(func, [i, i, i, i, i, i, i, i], bounds=bounds, constraints=linearCons)\n",
        "  print(res.x)\n"
      ],
      "execution_count": null,
      "outputs": [
        {
          "output_type": "stream",
          "text": [
            "[ 8.79191414e-01  1.00000000e+00  1.07456263e+00  1.07455416e+00\n",
            "  1.01342318e+00 -1.34231763e-01  1.18490568e-16  7.30923132e-02]\n",
            "[ 0.8791021   1.          1.07457805  1.07464978  1.0134331  -0.134331\n",
            "  0.          0.07318606]\n",
            "[ 0.87966998  1.          1.07465219  1.07386619  1.01337    -0.13370002\n",
            "  0.          0.07241783]\n",
            "[ 0.87936758  1.          1.07437202  1.07452896  1.0134036  -0.13403602\n",
            "  0.          0.07306761]\n",
            "[ 0.87902918  1.          1.07463015  1.07468754  1.0134412  -0.13441203\n",
            "  0.          0.07322308]\n",
            "[ 0.87906973  1.          1.07459849  1.07466928  1.0134367  -0.13436697\n",
            "  0.          0.07320518]\n",
            "[ 8.78740356e-01  1.00000000e+00  1.07357583e+00  1.07612300e+00\n",
            "  1.01347329e+00 -1.34732937e-01  1.12016415e-15  7.46303970e-02]\n",
            "[ 0.87946955  1.          1.07445067  1.07432161  1.01339227 -0.13392272\n",
            "  0.          0.07286432]\n",
            "[ 8.79201227e-01  1.00000000e+00  1.07454656e+00  1.07455831e+00\n",
            "  1.01342209e+00 -1.34220859e-01  5.50865810e-16  7.30963851e-02]\n",
            "[ 0.87918002  1.          1.07376939  1.07537746  1.01342444 -0.13424442\n",
            "  0.          0.07389947]\n"
          ],
          "name": "stdout"
        },
        {
          "output_type": "stream",
          "text": [
            "/usr/local/lib/python3.7/dist-packages/scipy/optimize/_constraints.py:410: OptimizeWarning: Equality and inequality constraints are specified in the same element of the constraint list. For efficient use with this method, equality and inequality constraints should be specified in separate elements of the constraint list. \n",
            "  \"in separate elements of the constraint list. \", OptimizeWarning)\n",
            "/usr/local/lib/python3.7/dist-packages/ipykernel_launcher.py:5: RuntimeWarning: invalid value encountered in log\n",
            "  \"\"\"\n"
          ],
          "name": "stderr"
        }
      ]
    },
    {
      "cell_type": "code",
      "metadata": {
        "colab": {
          "base_uri": "https://localhost:8080/",
          "height": 298
        },
        "id": "IRoXfk26F7ao",
        "outputId": "defc72f7-ce37-4a61-aa75-f05efc31e725"
      },
      "source": [
        "import matplotlib.pyplot as plt\n",
        "import numpy as np\n",
        "\n",
        "yVals = [-0.20100463, -0.19976552, -0.20112896,  -0.20019339, -0.20026854, -0.20014405,  -0.20050351, -0.19366179, -0.18608463,  -0.17883888, -0.17147921, \n",
        "         -0.16405182, -0.1573168, -0.14895579, -0.14171595, -0.13424442 ]\n",
        "xVals = [-.15, -.14, -.13, -.12, -.11, -.1, -.09, -.08, -.07, -.06, -.05, -.04, -.03, -.02, -.01, 0]\n",
        "\n",
        "fig, ax = plt.subplots()\n",
        "\n",
        "ax.plot(xVals, yVals)\n",
        "ax.set_xlabel('Risk, $\\sigma$')\n",
        "ax.set_ylabel(\"Borrowing Constraint, $a_{1,1} \\geq x$\")\n",
        "ax.set_title('Borrowing Constraint vs. Risk')\n",
        "fig.show()\n",
        "plt.savefig('comp_proj2.pdf')"
      ],
      "execution_count": null,
      "outputs": [
        {
          "output_type": "display_data",
          "data": {
            "image/png": "[encoded data removed]",
            "text/plain": [
              "<Figure size 432x288 with 1 Axes>"
            ]
          },
          "metadata": {
            "tags": [],
            "needs_background": "light"
          }
        }
      ]
    }
  ]
}